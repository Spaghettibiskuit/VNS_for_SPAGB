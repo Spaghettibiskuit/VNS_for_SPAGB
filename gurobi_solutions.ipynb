{
 "cells": [
  {
   "cell_type": "code",
   "execution_count": 1,
   "id": "a43031cc",
   "metadata": {},
   "outputs": [],
   "source": [
    "import gurobipy as gp\n",
    "from gurobipy import GRB\n",
    "import json\n",
    "from pathlib import Path\n",
    "import pandas as pd"
   ]
  },
  {
   "cell_type": "code",
   "execution_count": 2,
   "id": "98fbb5cb",
   "metadata": {},
   "outputs": [],
   "source": [
    "dimension = \"3_30_instances\"\n",
    "folder_projects = Path(\"instances_projects\")\n",
    "filename_projects = \"generic_3_30_projects_0.csv\"\n",
    "filepath_projects = folder_projects / dimension / filename_projects\n",
    "folder_students = Path(\"instances_students\")\n",
    "filename_students = \"generic_3_30_students_0.csv\"\n",
    "filepath_students = folder_students / dimension / filename_students\n",
    "projects_info = pd.read_csv(filepath_projects)\n",
    "students_info = pd.read_csv(filepath_students)\n",
    "students_info[\"fav_partners\"] = students_info[\"fav_partners\"].apply(json.loads)\n",
    "students_info[\"project_prefs\"] = students_info[\"project_prefs\"].apply(lambda x: tuple(json.loads(x)))"
   ]
  },
  {
   "cell_type": "code",
   "execution_count": 3,
   "id": "c67196b2",
   "metadata": {},
   "outputs": [
    {
     "name": "stdout",
     "output_type": "stream",
     "text": [
      "                       name  desired#groups  max#groups  ideal_group_size  \\\n",
      "0         Retail Management               2           4                 2   \n",
      "1        Management Science               2           5                 4   \n",
      "2  Personnel Administration               2           5                 2   \n",
      "\n",
      "   min_group_size  max_group_size  pen_groups  pen_size  \n",
      "0               1               3           3         2  \n",
      "1               3               6           2         3  \n",
      "2               1               3           1         1  \n"
     ]
    }
   ],
   "source": [
    "print(projects_info)"
   ]
  },
  {
   "cell_type": "code",
   "execution_count": null,
   "id": "edd14b38",
   "metadata": {},
   "outputs": [
    {
     "name": "stdout",
     "output_type": "stream",
     "text": [
      "                 name  fav_partners project_prefs\n",
      "0     Donald Thompson   [18, 21, 7]     (2, 0, 0)\n",
      "1       Kathryn Gomez   [5, 13, 22]     (2, 2, 1)\n",
      "2    Stephanie Nelson    [5, 13, 1]     (2, 2, 1)\n",
      "3         Jack Wright  [27, 23, 18]     (2, 1, 3)\n",
      "4      Carl Gutierrez   [18, 3, 29]     (2, 1, 3)\n",
      "5      Dorothy Thomas   [1, 18, 29]     (2, 2, 1)\n",
      "6         Carol Baker  [29, 17, 22]     (2, 3, 1)\n",
      "7        Walter Myers    [0, 21, 9]     (2, 1, 0)\n",
      "8         Steven Hill   [17, 7, 14]     (2, 1, 1)\n",
      "9     Nicholas Martin    [0, 2, 12]     (2, 1, 1)\n",
      "10   Peter Richardson   [16, 4, 26]     (1, 1, 2)\n",
      "11      Paul Thompson  [25, 23, 12]     (2, 1, 2)\n",
      "12  Brittany Castillo   [11, 9, 10]     (2, 1, 1)\n",
      "13      Kathleen Hill    [1, 2, 19]     (2, 1, 1)\n",
      "14    Pamela Peterson  [25, 15, 12]     (2, 1, 2)\n",
      "15         Jose Lopez    [14, 8, 6]     (2, 2, 1)\n",
      "16     Gabriel Bailey  [19, 17, 24]     (3, 1, 1)\n",
      "17     Zachary Wright    [6, 22, 7]     (2, 2, 1)\n",
      "18         Carl Baker    [0, 3, 12]     (2, 1, 2)\n",
      "19   Cynthia Thompson   [13, 14, 0]     (2, 1, 1)\n",
      "20        Teresa Hall   [14, 27, 3]     (2, 1, 2)\n",
      "21      Lawrence Hall   [7, 22, 17]     (2, 1, 1)\n",
      "22     Charles Thomas  [17, 29, 14]     (1, 1, 1)\n",
      "23     Jacob Williams    [11, 6, 8]     (2, 1, 2)\n",
      "24  Elizabeth Collins  [16, 23, 28]     (2, 2, 2)\n",
      "25        Janet Scott  [11, 14, 20]     (2, 2, 2)\n",
      "26      Andrew Bailey   [10, 8, 11]     (2, 1, 1)\n",
      "27          Amy Evans    [3, 22, 8]     (2, 1, 2)\n",
      "28        Lisa Thomas  [24, 12, 19]     (2, 1, 2)\n",
      "29       Jeremy Baker    [4, 6, 22]     (2, 1, 2)\n"
     ]
    }
   ],
   "source": [
    "print(students_info)"
   ]
  },
  {
   "cell_type": "code",
   "execution_count": 5,
   "id": "93489dd3",
   "metadata": {},
   "outputs": [],
   "source": [
    "reward_bilateral = 2\n",
    "penalty_unassignment = 3"
   ]
  },
  {
   "cell_type": "code",
   "execution_count": 6,
   "id": "3f2739e9",
   "metadata": {},
   "outputs": [
    {
     "name": "stdout",
     "output_type": "stream",
     "text": [
      "Set parameter Username\n",
      "Set parameter LicenseID to value 2654427\n",
      "Academic license - for non-commercial use only - expires 2026-04-19\n"
     ]
    }
   ],
   "source": [
    "\n",
    "m = gp.Model()"
   ]
  },
  {
   "cell_type": "code",
   "execution_count": 7,
   "id": "3f6339d9",
   "metadata": {},
   "outputs": [],
   "source": [
    "project_ids = range(len(projects_info))\n",
    "student_ids = range(len(students_info))\n",
    "\n",
    "projects_group_ids = {\n",
    "    project_id: range(projects_info[\"max#groups\"][project_id])\n",
    "    for project_id in project_ids\n",
    "}\n"
   ]
  },
  {
   "cell_type": "code",
   "execution_count": 8,
   "id": "d8f16e76",
   "metadata": {},
   "outputs": [],
   "source": [
    "x = m.addVars(\n",
    "    (\n",
    "        (project_id, group_id, student_id)\n",
    "        for project_id in project_ids\n",
    "        for group_id in projects_group_ids[project_id]\n",
    "        for student_id in student_ids\n",
    "    ),\n",
    "    vtype=GRB.BINARY,\n",
    "    name=\"assign\",\n",
    ")\n",
    "m.update()"
   ]
  },
  {
   "cell_type": "code",
   "execution_count": 9,
   "id": "ff7c29de",
   "metadata": {},
   "outputs": [],
   "source": [
    "y = m.addVars(\n",
    "    (\n",
    "        (project_id, group_id)\n",
    "        for project_id in project_ids\n",
    "        for group_id in projects_group_ids[project_id]\n",
    "    ),\n",
    "    vtype=GRB.BINARY,\n",
    "    name=\"establish_group\",\n",
    ")"
   ]
  },
  {
   "cell_type": "code",
   "execution_count": 10,
   "id": "e851e07b",
   "metadata": {},
   "outputs": [],
   "source": [
    "favorite_partners_students = students_info[\"fav_partners\"].tolist()\n",
    "mutual_pairs = set()\n",
    "\n",
    "for student_id, favorite_partners in enumerate(favorite_partners_students):\n",
    "    for partner_id in favorite_partners:\n",
    "        if partner_id <= student_id:\n",
    "            continue\n",
    "        if student_id in favorite_partners_students[partner_id]:\n",
    "            mutual_pairs.add((student_id, partner_id))"
   ]
  },
  {
   "cell_type": "code",
   "execution_count": 11,
   "id": "60166f58",
   "metadata": {},
   "outputs": [],
   "source": [
    "z = m.addVars(mutual_pairs, vtype=GRB.BINARY, name=\"not_realize_bilateral_cooperation_wish\")"
   ]
  },
  {
   "cell_type": "code",
   "execution_count": 12,
   "id": "c0cdd1af",
   "metadata": {},
   "outputs": [],
   "source": [
    "v = m.addVars(student_ids, name = \"student_unassigned\")"
   ]
  },
  {
   "cell_type": "code",
   "execution_count": 13,
   "id": "9d10802b",
   "metadata": {},
   "outputs": [],
   "source": [
    "gs_surplus = m.addVars(\n",
    "    (\n",
    "        (project_id, group_id)\n",
    "        for project_id in project_ids\n",
    "        for group_id in projects_group_ids[project_id]\n",
    "    ),\n",
    "    name=\"group_size_surplus\",\n",
    ")"
   ]
  },
  {
   "cell_type": "code",
   "execution_count": 14,
   "id": "12d85c91",
   "metadata": {},
   "outputs": [],
   "source": [
    "gs_deficit = m.addVars(\n",
    "    (\n",
    "        (project_id, group_id)\n",
    "        for project_id in project_ids\n",
    "        for group_id in projects_group_ids[project_id]\n",
    "    ),\n",
    "    name=\"group_size_deficit\",\n",
    ")"
   ]
  },
  {
   "cell_type": "code",
   "execution_count": 15,
   "id": "4b743c90",
   "metadata": {},
   "outputs": [],
   "source": [
    "project_preferences = {\n",
    "    (student_id, project_id): students_info[\"project_prefs\"][student_id][project_id]\n",
    "    for student_id in student_ids\n",
    "    for project_id in project_ids\n",
    "}"
   ]
  },
  {
   "cell_type": "code",
   "execution_count": 16,
   "id": "53f0e6d1",
   "metadata": {},
   "outputs": [],
   "source": [
    "rewards_student_project_preference = gp.quicksum(\n",
    "    project_preferences[student_id, project_id] * x[project_id, group_id, student_id]\n",
    "    for project_id in project_ids\n",
    "    for group_id in projects_group_ids[project_id]\n",
    "    for student_id in student_ids\n",
    ")\n",
    "\n",
    "rewards_bilateral_cooperation_wish_realized = reward_bilateral * gp.quicksum(\n",
    "    1 - z[*mutual_pair] for mutual_pair in mutual_pairs\n",
    ")\n",
    "\n",
    "penalties_student_unassigned = penalty_unassignment * gp.quicksum(v.values())\n",
    "\n",
    "penalties_more_groups_than_offered = gp.quicksum(\n",
    "    projects_info[\"pen_groups\"][project_id] * y[project_id, group_id]\n",
    "    for project_id in project_ids\n",
    "    for group_id in projects_group_ids[project_id]\n",
    "    if group_id >= projects_info[\"desired#groups\"][project_id]\n",
    ")\n",
    "\n",
    "penalties_not_ideal_group_size = gp.quicksum(\n",
    "    projects_info[\"pen_size\"][project_id]\n",
    "    * (gs_surplus[project_id, group_id] + gs_deficit[project_id, group_id])\n",
    "    for project_id in project_ids\n",
    "    for group_id in projects_group_ids[project_id]\n",
    ")\n",
    "\n",
    "m.setObjective(\n",
    "    rewards_student_project_preference\n",
    "    + rewards_bilateral_cooperation_wish_realized\n",
    "    - penalties_student_unassigned\n",
    "    - penalties_more_groups_than_offered\n",
    "    - penalties_not_ideal_group_size,\n",
    "    sense=GRB.MAXIMIZE,\n",
    ")"
   ]
  },
  {
   "cell_type": "code",
   "execution_count": 17,
   "id": "d4e95c2f",
   "metadata": {},
   "outputs": [],
   "source": [
    "m.addConstrs(\n",
    "    (x.sum(\"*\", \"*\", student_id) + v[student_id] == 1 for student_id in student_ids),\n",
    "    name=\"penalty_if_unassigned\",\n",
    ")\n",
    "m.update()"
   ]
  },
  {
   "cell_type": "code",
   "execution_count": 18,
   "id": "61b7195b",
   "metadata": {},
   "outputs": [],
   "source": [
    "m.addConstrs(\n",
    "    (\n",
    "        y[project_id, group_id] <= y[project_id, group_id - 1]\n",
    "        for project_id in project_ids\n",
    "        for group_id in projects_group_ids[project_id]\n",
    "        if group_id > 0\n",
    "    ), name=\"only_consecutive_group_ids\"\n",
    ")\n",
    "m.update()"
   ]
  },
  {
   "cell_type": "code",
   "execution_count": 19,
   "id": "c7a2de76",
   "metadata": {},
   "outputs": [],
   "source": [
    "m.addConstrs(\n",
    "    (\n",
    "        x.sum(project_id, group_id, \"*\")\n",
    "        >= projects_info[\"min_group_size\"][project_id] * y[project_id, group_id]\n",
    "        for project_id in project_ids\n",
    "        for group_id in projects_group_ids[project_id]\n",
    "    ), name=\"ensure_min_group_size\"\n",
    ")\n",
    "m.update()"
   ]
  },
  {
   "cell_type": "code",
   "execution_count": 20,
   "id": "066b5083",
   "metadata": {},
   "outputs": [],
   "source": [
    "m.addConstrs(\n",
    "    (\n",
    "        x.sum(project_id, group_id, \"*\")\n",
    "        <= projects_info[\"max_group_size\"][project_id] * y[project_id, group_id]\n",
    "        for project_id in project_ids\n",
    "        for group_id in projects_group_ids[project_id]\n",
    "    ), name=\"cap_group_size_at_max\"\n",
    ")\n",
    "m.update()"
   ]
  },
  {
   "cell_type": "code",
   "execution_count": 21,
   "id": "ee5569ca",
   "metadata": {},
   "outputs": [],
   "source": [
    "m.addConstrs(\n",
    "    (\n",
    "        gs_surplus[project_id, group_id]\n",
    "        >= x.sum(project_id, group_id, \"*\")\n",
    "        - projects_info[\"ideal_group_size\"][project_id]\n",
    "        for project_id in project_ids\n",
    "        for group_id in projects_group_ids[project_id]\n",
    "    ), name=\"ensure_correct_group_size_surplus\"\n",
    ")\n",
    "m.update()"
   ]
  },
  {
   "cell_type": "code",
   "execution_count": 22,
   "id": "b2fcc2d3",
   "metadata": {},
   "outputs": [],
   "source": [
    "m.addConstrs(\n",
    "    (\n",
    "        gs_deficit[project_id, group_id]\n",
    "        >= projects_info[\"ideal_group_size\"][project_id]\n",
    "        - x.sum(project_id, group_id, \"*\")\n",
    "        - projects_info[\"max_group_size\"][project_id] * (1 - y[project_id, group_id])\n",
    "        for project_id in project_ids\n",
    "        for group_id in projects_group_ids[project_id]\n",
    "    ), name=\"ensure_correct_group_size_deficit\"\n",
    ")\n",
    "m.update()"
   ]
  },
  {
   "cell_type": "code",
   "execution_count": 23,
   "id": "4a1a3dce",
   "metadata": {},
   "outputs": [],
   "source": [
    "max_num_groups = max(projects_info[\"max#groups\"])\n",
    "\n",
    "\n",
    "unique_group_identifiers = {\n",
    "    (project_id, group_id): project_id + group_id / max_num_groups\n",
    "    for project_id in project_ids\n",
    "    for group_id in projects_group_ids[project_id]\n",
    "}"
   ]
  },
  {
   "cell_type": "code",
   "execution_count": 24,
   "id": "6d9d1656",
   "metadata": {},
   "outputs": [],
   "source": [
    "num_projects = len(projects_info)\n",
    "\n",
    "m.addConstrs(\n",
    "    (\n",
    "        z[first_student_id, second_student_id] * num_projects\n",
    "        >= sum(\n",
    "            unique_group_identifiers[project_id, group_id]\n",
    "            * (\n",
    "                x[project_id, group_id, first_student_id]\n",
    "                - x[project_id, group_id, second_student_id]\n",
    "            )\n",
    "            for project_id in project_ids\n",
    "            for group_id in projects_group_ids[project_id]\n",
    "        )\n",
    "        for (first_student_id, second_student_id) in mutual_pairs\n",
    "    ), name=\"ensure_correct_inidicator_different_group_1\"\n",
    ")\n",
    "m.update()"
   ]
  },
  {
   "cell_type": "code",
   "execution_count": 25,
   "id": "a13bc542",
   "metadata": {},
   "outputs": [],
   "source": [
    "m.addConstrs(\n",
    "    (\n",
    "        z[first_student_id, second_student_id] * num_projects\n",
    "        >= sum(\n",
    "            unique_group_identifiers[project_id, group_id]\n",
    "            * (\n",
    "                x[project_id, group_id, second_student_id]\n",
    "                - x[project_id, group_id, first_student_id]\n",
    "            )\n",
    "            for project_id in project_ids\n",
    "            for group_id in projects_group_ids[project_id]\n",
    "        )\n",
    "        for (first_student_id, second_student_id) in mutual_pairs\n",
    "    ), name=\"ensure_correct_inidicator_different_group_2\"\n",
    ")\n",
    "m.update()"
   ]
  },
  {
   "cell_type": "code",
   "execution_count": 26,
   "id": "b94973be",
   "metadata": {},
   "outputs": [
    {
     "name": "stdout",
     "output_type": "stream",
     "text": [
      "Set parameter TimeLimit to value 60\n",
      "Gurobi Optimizer version 12.0.2 build v12.0.2rc0 (win64 - Windows 11.0 (26100.2))\n",
      "\n",
      "CPU model: 12th Gen Intel(R) Core(TM) i5-12500H, instruction set [SSE2|AVX|AVX2]\n",
      "Thread count: 12 physical cores, 16 logical processors, using up to 16 threads\n",
      "\n",
      "Non-default parameters:\n",
      "TimeLimit  60\n",
      "\n",
      "Optimize a model with 143 rows, 515 columns and 3464 nonzeros\n",
      "Model fingerprint: 0x45ef2a53\n",
      "Variable types: 58 continuous, 457 integer (457 binary)\n",
      "Coefficient statistics:\n",
      "  Matrix range     [2e-01, 6e+00]\n",
      "  Objective range  [1e+00, 3e+00]\n",
      "  Bounds range     [1e+00, 1e+00]\n",
      "  RHS range        [1e+00, 4e+00]\n",
      "Found heuristic solution: objective -44.0000000\n",
      "Presolve removed 14 rows and 0 columns\n",
      "Presolve time: 0.01s\n",
      "Presolved: 129 rows, 515 columns, 3044 nonzeros\n",
      "Variable types: 0 continuous, 515 integer (487 binary)\n",
      "\n",
      "Root relaxation: objective 9.238185e+01, 375 iterations, 0.00 seconds (0.00 work units)\n",
      "\n",
      "    Nodes    |    Current Node    |     Objective Bounds      |     Work\n",
      " Expl Unexpl |  Obj  Depth IntInf | Incumbent    BestBd   Gap | It/Node Time\n",
      "\n",
      "     0     0   92.38185    0   55  -44.00000   92.38185   310%     -    0s\n",
      "H    0     0                      31.0000000   92.38185   198%     -    0s\n",
      "H    0     0                      36.0000000   92.38185   157%     -    0s\n",
      "H    0     0                      50.0000000   92.38185  84.8%     -    0s\n",
      "H    0     0                      51.0000000   90.11468  76.7%     -    0s\n",
      "H    0     0                      56.0000000   90.11468  60.9%     -    0s\n",
      "H    0     0                      60.0000000   90.11468  50.2%     -    0s\n",
      "     0     0   90.11468    0   70   60.00000   90.11468  50.2%     -    0s\n",
      "H    0     0                      62.0000000   90.10937  45.3%     -    0s\n",
      "     0     0   90.07975    0   68   62.00000   90.07975  45.3%     -    0s\n",
      "     0     0   89.02088    0   80   62.00000   89.02088  43.6%     -    0s\n",
      "H    0     0                      63.0000000   89.01996  41.3%     -    0s\n",
      "H    0     0                      65.0000000   89.00475  36.9%     -    0s\n",
      "     0     0   89.00475    0   83   65.00000   89.00475  36.9%     -    0s\n",
      "     0     0   89.00038    0   87   65.00000   89.00038  36.9%     -    0s\n",
      "     0     0   89.00018    0   88   65.00000   89.00018  36.9%     -    0s\n",
      "H    0     0                      68.0000000   89.00018  30.9%     -    0s\n",
      "     0     0   88.52846    0   92   68.00000   88.52846  30.2%     -    0s\n",
      "H    0     0                      72.0000000   88.52632  23.0%     -    0s\n",
      "     0     0   88.50883    0   96   72.00000   88.50883  22.9%     -    0s\n",
      "     0     0   88.49956    0   99   72.00000   88.49956  22.9%     -    0s\n",
      "     0     0   88.49500    0   99   72.00000   88.49500  22.9%     -    0s\n",
      "     0     0   88.49383    0   98   72.00000   88.49383  22.9%     -    0s\n",
      "     0     0   88.29027    0   96   72.00000   88.29027  22.6%     -    0s\n",
      "H    0     0                      74.0000000   88.28724  19.3%     -    0s\n",
      "H    0     0                      75.0000000   88.28724  17.7%     -    0s\n",
      "     0     0   88.27384    0   96   75.00000   88.27384  17.7%     -    0s\n",
      "     0     0   88.27373    0   98   75.00000   88.27373  17.7%     -    0s\n",
      "     0     0   87.90179    0   97   75.00000   87.90179  17.2%     -    0s\n",
      "     0     0   87.80927    0  100   75.00000   87.80927  17.1%     -    0s\n",
      "     0     0   87.79648    0  104   75.00000   87.79648  17.1%     -    0s\n",
      "     0     0   87.79218    0  104   75.00000   87.79218  17.1%     -    0s\n",
      "     0     0   87.79212    0  104   75.00000   87.79212  17.1%     -    0s\n",
      "     0     0   87.28571    0   73   75.00000   87.28571  16.4%     -    0s\n",
      "     0     0   87.28571    0   74   75.00000   87.28571  16.4%     -    0s\n",
      "     0     0   87.28571    0   80   75.00000   87.28571  16.4%     -    0s\n",
      "     0     0   87.28571    0   62   75.00000   87.28571  16.4%     -    0s\n",
      "     0     2   87.27615    0   60   75.00000   87.27615  16.4%     -    0s\n",
      "H   40    64                      77.0000000   87.27615  13.3%  72.8    0s\n",
      "H  144   164                      78.0000000   87.27615  11.9%  47.9    0s\n",
      "H  175   164                      79.0000000   87.27615  10.5%  43.7    0s\n",
      "H  270   258                      81.0000000   87.27615  7.75%  37.5    0s\n",
      "  8690  1705   83.00000   31   66   81.00000   85.00000  4.94%  62.1    5s\n",
      "\n",
      "Cutting planes:\n",
      "  Gomory: 20\n",
      "  Cover: 116\n",
      "  Clique: 2\n",
      "  MIR: 53\n",
      "  StrongCG: 10\n",
      "  Flow cover: 50\n",
      "  GUB cover: 222\n",
      "  Inf proof: 33\n",
      "  Zero half: 74\n",
      "  RLT: 1\n",
      "\n",
      "Explored 22462 nodes (1365669 simplex iterations) in 9.80 seconds (7.38 work units)\n",
      "Thread count was 16 (of 16 available processors)\n",
      "\n",
      "Solution count 10: 81 79 78 ... 63\n",
      "\n",
      "Optimal solution found (tolerance 1.00e-04)\n",
      "Best objective 8.100000000000e+01, best bound 8.100000000000e+01, gap 0.0000%\n"
     ]
    }
   ],
   "source": [
    "m.Params.TimeLimit = 60\n",
    "m.optimize()"
   ]
  },
  {
   "cell_type": "code",
   "execution_count": 27,
   "id": "24b5f477",
   "metadata": {},
   "outputs": [
    {
     "name": "stdout",
     "output_type": "stream",
     "text": [
      "\n",
      "\n",
      "Retail Management\n",
      "\n",
      "Group 1\n",
      "Steven Hill 8\n",
      "Gabriel Bailey 16\n",
      "\n",
      "Group 2\n",
      "Donald Thompson 0\n",
      "Walter Myers 7\n",
      "Lawrence Hall 21\n",
      "\n",
      "Group 3\n",
      "\n",
      "Group 4\n",
      "\n",
      "\n",
      "Management Science\n",
      "\n",
      "Group 1\n",
      "Stephanie Nelson 2\n",
      "Pamela Peterson 14\n",
      "Jose Lopez 15\n",
      "Janet Scott 25\n",
      "\n",
      "Group 2\n",
      "Kathryn Gomez 1\n",
      "Dorothy Thomas 5\n",
      "Kathleen Hill 13\n",
      "Cynthia Thompson 19\n",
      "\n",
      "Group 3\n",
      "Carol Baker 6\n",
      "Zachary Wright 17\n",
      "Charles Thomas 22\n",
      "Jeremy Baker 29\n",
      "\n",
      "Group 4\n",
      "Nicholas Martin 9\n",
      "Paul Thompson 11\n",
      "Brittany Castillo 12\n",
      "Jacob Williams 23\n",
      "\n",
      "Group 5\n",
      "\n",
      "\n",
      "Personnel Administration\n",
      "\n",
      "Group 1\n",
      "Carl Gutierrez 4\n",
      "Teresa Hall 20\n",
      "\n",
      "Group 2\n",
      "Jack Wright 3\n",
      "Carl Baker 18\n",
      "Amy Evans 27\n",
      "\n",
      "Group 3\n",
      "Elizabeth Collins 24\n",
      "Lisa Thomas 28\n",
      "\n",
      "Group 4\n",
      "Peter Richardson 10\n",
      "Andrew Bailey 26\n",
      "\n",
      "Group 5\n"
     ]
    }
   ],
   "source": [
    "for project_id in project_ids:\n",
    "    print(\"\\n\")\n",
    "    print(projects_info[\"name\"][project_id])\n",
    "    for group_id in projects_group_ids[project_id]:\n",
    "        print(\"\\nGroup\", group_id + 1)\n",
    "        for student_id in student_ids:\n",
    "            if x[project_id, group_id, student_id].X > 0.5:\n",
    "                print(students_info[\"name\"][student_id], student_id)"
   ]
  },
  {
   "cell_type": "code",
   "execution_count": 28,
   "id": "10151b64",
   "metadata": {},
   "outputs": [],
   "source": [
    "# m.write(\"SSPAGDP.lp\")"
   ]
  },
  {
   "cell_type": "code",
   "execution_count": 29,
   "id": "aa09844e",
   "metadata": {},
   "outputs": [
    {
     "name": "stdout",
     "output_type": "stream",
     "text": [
      "Freeing default Gurobi environment\n"
     ]
    }
   ],
   "source": [
    "m.dispose()\n",
    "gp.disposeDefaultEnv()"
   ]
  }
 ],
 "metadata": {
  "kernelspec": {
   "display_name": "student_assignment",
   "language": "python",
   "name": "python3"
  },
  "language_info": {
   "codemirror_mode": {
    "name": "ipython",
    "version": 3
   },
   "file_extension": ".py",
   "mimetype": "text/x-python",
   "name": "python",
   "nbconvert_exporter": "python",
   "pygments_lexer": "ipython3",
   "version": "3.13.2"
  }
 },
 "nbformat": 4,
 "nbformat_minor": 5
}
