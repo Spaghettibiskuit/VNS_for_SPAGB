{
 "cells": [
  {
   "cell_type": "code",
   "execution_count": 57,
   "id": "a43031cc",
   "metadata": {},
   "outputs": [],
   "source": [
    "import gurobipy as gp\n",
    "from gurobipy import GRB\n",
    "import json\n",
    "from pathlib import Path\n",
    "import pandas as pd"
   ]
  },
  {
   "cell_type": "code",
   "execution_count": 58,
   "id": "98fbb5cb",
   "metadata": {},
   "outputs": [],
   "source": [
    "dimension = \"5_30_instances\"\n",
    "folder_projects = Path(\"instances_projects\")\n",
    "filename_projects = \"generic_5_30_projects_4.csv\"\n",
    "filepath_projects = folder_projects / dimension / filename_projects\n",
    "folder_students = Path(\"instances_students\")\n",
    "filename_students = \"generic_5_30_students_4.csv\"\n",
    "filepath_students = folder_students / dimension / filename_students\n",
    "projects_info = pd.read_csv(filepath_projects)\n",
    "students_info = pd.read_csv(filepath_students)\n",
    "students_info[\"fav_partners\"] = students_info[\"fav_partners\"].apply(lambda x: set(json.loads(x)))\n",
    "students_info[\"project_prefs\"] = students_info[\"project_prefs\"].apply(lambda x: tuple(json.loads(x)))"
   ]
  },
  {
   "cell_type": "code",
   "execution_count": 59,
   "id": "c67196b2",
   "metadata": {},
   "outputs": [
    {
     "name": "stdout",
     "output_type": "stream",
     "text": [
      "                           name  desired#groups  max#groups  ideal_group_size  \\\n",
      "0                     Marketing               3           5                 3   \n",
      "1         Innovation Management               4           6                 2   \n",
      "2        Payroll Administration               3           6                 3   \n",
      "3             Consumer Behavior               4           5                 4   \n",
      "4  Business Information Systems               3           4                 4   \n",
      "\n",
      "   min_group_size  max_group_size  pen_groups  pen_size  \n",
      "0               2               4           3         3  \n",
      "1               1               4           2         1  \n",
      "2               2               4           3         2  \n",
      "3               1               5           2         2  \n",
      "4               1               5           3         3  \n"
     ]
    }
   ],
   "source": [
    "print(projects_info)"
   ]
  },
  {
   "cell_type": "code",
   "execution_count": 60,
   "id": "edd14b38",
   "metadata": {},
   "outputs": [
    {
     "name": "stdout",
     "output_type": "stream",
     "text": [
      "                name  fav_partners    project_prefs\n",
      "0        Jose Wright   {1, 18, 14}  (1, 2, 3, 2, 3)\n",
      "1     Raymond Thomas    {0, 9, 25}  (1, 2, 3, 2, 3)\n",
      "2        Betty James    {9, 21, 1}  (1, 1, 2, 1, 2)\n",
      "3       Albert Moore  {16, 27, 20}  (1, 3, 2, 1, 2)\n",
      "4     Kathryn Nelson    {1, 3, 21}  (2, 2, 3, 2, 2)\n",
      "5      Paul Martinez   {19, 21, 7}  (0, 2, 2, 0, 2)\n",
      "6      Sandra Hughes   {1, 28, 17}  (1, 2, 2, 2, 2)\n",
      "7      Keith Mendoza   {18, 29, 5}  (0, 1, 2, 1, 2)\n",
      "8      Raymond Lewis   {11, 29, 7}  (0, 1, 2, 1, 2)\n",
      "9     Kimberly Brown   {1, 20, 23}  (1, 1, 3, 1, 2)\n",
      "10  Theresa Anderson     {9, 3, 6}  (1, 2, 2, 1, 2)\n",
      "11     Elijah Taylor   {8, 26, 15}  (1, 2, 2, 1, 2)\n",
      "12          Jack Cox   {10, 5, 23}  (1, 2, 1, 1, 2)\n",
      "13      John Johnson   {5, 29, 23}  (1, 1, 1, 1, 2)\n",
      "14  Dorothy Anderson    {0, 18, 3}  (2, 2, 3, 2, 3)\n",
      "15       Amanda Ross  {25, 27, 29}  (1, 3, 2, 3, 2)\n",
      "16        Keith Long    {19, 2, 3}  (1, 2, 2, 2, 2)\n",
      "17         Lori Hill   {8, 18, 12}  (1, 1, 2, 1, 2)\n",
      "18      Karen Rogers   {17, 14, 7}  (2, 2, 2, 2, 3)\n",
      "19         Kevin Lee   {16, 18, 5}  (1, 2, 1, 1, 2)\n",
      "20       Doris Ramos     {9, 3, 7}  (1, 2, 2, 2, 1)\n",
      "21     Barbara Brown     {2, 4, 5}  (1, 1, 2, 1, 2)\n",
      "22      Linda Carter  {26, 19, 15}  (2, 2, 2, 2, 2)\n",
      "23      Eric Morales   {9, 12, 17}  (1, 1, 2, 1, 1)\n",
      "24      Emily Taylor   {16, 5, 14}  (1, 2, 2, 1, 2)\n",
      "25      Sophia Lopez   {21, 20, 5}  (1, 2, 2, 1, 2)\n",
      "26      Maria Wilson  {11, 20, 22}  (2, 2, 2, 2, 2)\n",
      "27        Wayne Gray    {3, 6, 15}  (2, 3, 2, 2, 2)\n",
      "28      Caleb Rogers    {2, 6, 15}  (2, 2, 2, 2, 2)\n",
      "29       Logan Lopez   {28, 13, 7}  (1, 1, 2, 2, 2)\n"
     ]
    }
   ],
   "source": [
    "print(students_info)"
   ]
  },
  {
   "cell_type": "code",
   "execution_count": 61,
   "id": "93489dd3",
   "metadata": {},
   "outputs": [],
   "source": [
    "reward_bilateral = 2\n",
    "penalty_unassignment = 3"
   ]
  },
  {
   "cell_type": "code",
   "execution_count": 62,
   "id": "3f2739e9",
   "metadata": {},
   "outputs": [
    {
     "name": "stdout",
     "output_type": "stream",
     "text": [
      "Set parameter Username\n",
      "Set parameter LicenseID to value 2654427\n",
      "Academic license - for non-commercial use only - expires 2026-04-19\n"
     ]
    }
   ],
   "source": [
    "\n",
    "model = gp.Model()"
   ]
  },
  {
   "cell_type": "code",
   "execution_count": 63,
   "id": "3f6339d9",
   "metadata": {},
   "outputs": [],
   "source": [
    "project_ids = range(len(projects_info))\n",
    "student_ids = range(len(students_info))\n",
    "\n",
    "projects_group_ids = {\n",
    "    project_id: range(projects_info[\"max#groups\"][project_id])\n",
    "    for project_id in project_ids\n",
    "}\n"
   ]
  },
  {
   "cell_type": "code",
   "execution_count": 64,
   "id": "d8f16e76",
   "metadata": {},
   "outputs": [],
   "source": [
    "x = model.addVars(\n",
    "    (\n",
    "        (project_id, group_id, student_id)\n",
    "        for project_id in project_ids\n",
    "        for group_id in projects_group_ids[project_id]\n",
    "        for student_id in student_ids\n",
    "    ),\n",
    "    vtype=GRB.BINARY,\n",
    "    name=\"assign\",\n",
    ")\n",
    "model.update()"
   ]
  },
  {
   "cell_type": "code",
   "execution_count": 65,
   "id": "ff7c29de",
   "metadata": {},
   "outputs": [],
   "source": [
    "y = model.addVars(\n",
    "    (\n",
    "        (project_id, group_id)\n",
    "        for project_id in project_ids\n",
    "        for group_id in projects_group_ids[project_id]\n",
    "    ),\n",
    "    vtype=GRB.BINARY,\n",
    "    name=\"establish_group\",\n",
    ")"
   ]
  },
  {
   "cell_type": "code",
   "execution_count": 66,
   "id": "e851e07b",
   "metadata": {},
   "outputs": [],
   "source": [
    "favorite_partners_students = students_info[\"fav_partners\"].tolist()\n",
    "mutual_pairs = {\n",
    "    (student_id, partner_id)\n",
    "    for student_id, favorite_partners in enumerate(favorite_partners_students)\n",
    "    for partner_id in favorite_partners\n",
    "    if student_id < partner_id and\n",
    "    student_id in favorite_partners_students[partner_id]\n",
    "}"
   ]
  },
  {
   "cell_type": "code",
   "execution_count": 67,
   "id": "60166f58",
   "metadata": {},
   "outputs": [],
   "source": [
    "z = model.addVars(mutual_pairs, vtype=GRB.BINARY, name=\"not_realize_bilateral_cooperation_wish\")"
   ]
  },
  {
   "cell_type": "code",
   "execution_count": 68,
   "id": "c0cdd1af",
   "metadata": {},
   "outputs": [],
   "source": [
    "v = model.addVars(student_ids, name = \"student_unassigned\")"
   ]
  },
  {
   "cell_type": "code",
   "execution_count": 69,
   "id": "9d10802b",
   "metadata": {},
   "outputs": [],
   "source": [
    "gs_surplus = model.addVars(\n",
    "    (\n",
    "        (project_id, group_id)\n",
    "        for project_id in project_ids\n",
    "        for group_id in projects_group_ids[project_id]\n",
    "    ),\n",
    "    name=\"group_size_surplus\",\n",
    ")"
   ]
  },
  {
   "cell_type": "code",
   "execution_count": 70,
   "id": "12d85c91",
   "metadata": {},
   "outputs": [],
   "source": [
    "gs_deficit = model.addVars(\n",
    "    (\n",
    "        (project_id, group_id)\n",
    "        for project_id in project_ids\n",
    "        for group_id in projects_group_ids[project_id]\n",
    "    ),\n",
    "    name=\"group_size_deficit\",\n",
    ")"
   ]
  },
  {
   "cell_type": "code",
   "execution_count": 71,
   "id": "4b743c90",
   "metadata": {},
   "outputs": [],
   "source": [
    "project_preferences = {\n",
    "    (student_id, project_id): students_info[\"project_prefs\"][student_id][project_id]\n",
    "    for student_id in student_ids\n",
    "    for project_id in project_ids\n",
    "}"
   ]
  },
  {
   "cell_type": "code",
   "execution_count": 72,
   "id": "53f0e6d1",
   "metadata": {},
   "outputs": [],
   "source": [
    "rewards_student_project_preference = gp.quicksum(\n",
    "    project_preferences[student_id, project_id] * x[project_id, group_id, student_id]\n",
    "    for project_id in project_ids\n",
    "    for group_id in projects_group_ids[project_id]\n",
    "    for student_id in student_ids\n",
    ")\n",
    "\n",
    "rewards_bilateral_cooperation_wish_realized = reward_bilateral * gp.quicksum(\n",
    "    1 - z[*mutual_pair] for mutual_pair in mutual_pairs\n",
    ")\n",
    "\n",
    "penalties_student_unassigned = penalty_unassignment * gp.quicksum(v.values())\n",
    "\n",
    "penalties_more_groups_than_offered = gp.quicksum(\n",
    "    projects_info[\"pen_groups\"][project_id] * y[project_id, group_id]\n",
    "    for project_id in project_ids\n",
    "    for group_id in projects_group_ids[project_id]\n",
    "    if group_id >= projects_info[\"desired#groups\"][project_id]\n",
    ")\n",
    "\n",
    "penalties_not_ideal_group_size = gp.quicksum(\n",
    "    projects_info[\"pen_size\"][project_id]\n",
    "    * (gs_surplus[project_id, group_id] + gs_deficit[project_id, group_id])\n",
    "    for project_id in project_ids\n",
    "    for group_id in projects_group_ids[project_id]\n",
    ")\n",
    "\n",
    "model.setObjective(\n",
    "    rewards_student_project_preference\n",
    "    + rewards_bilateral_cooperation_wish_realized\n",
    "    - penalties_student_unassigned\n",
    "    - penalties_more_groups_than_offered\n",
    "    - penalties_not_ideal_group_size,\n",
    "    sense=GRB.MAXIMIZE,\n",
    ")"
   ]
  },
  {
   "cell_type": "code",
   "execution_count": 73,
   "id": "d4e95c2f",
   "metadata": {},
   "outputs": [],
   "source": [
    "model.addConstrs(\n",
    "    (x.sum(\"*\", \"*\", student_id) + v[student_id] == 1 for student_id in student_ids),\n",
    "    name=\"penalty_if_unassigned\",\n",
    ")\n",
    "model.update()"
   ]
  },
  {
   "cell_type": "code",
   "execution_count": 74,
   "id": "61b7195b",
   "metadata": {},
   "outputs": [],
   "source": [
    "model.addConstrs(\n",
    "    (\n",
    "        y[project_id, group_id] <= y[project_id, group_id - 1]\n",
    "        for project_id in project_ids\n",
    "        for group_id in projects_group_ids[project_id]\n",
    "        if group_id > 0\n",
    "    ), name=\"only_consecutive_group_ids\"\n",
    ")\n",
    "model.update()"
   ]
  },
  {
   "cell_type": "code",
   "execution_count": 75,
   "id": "c7a2de76",
   "metadata": {},
   "outputs": [],
   "source": [
    "model.addConstrs(\n",
    "    (\n",
    "        x.sum(project_id, group_id, \"*\")\n",
    "        >= projects_info[\"min_group_size\"][project_id] * y[project_id, group_id]\n",
    "        for project_id in project_ids\n",
    "        for group_id in projects_group_ids[project_id]\n",
    "    ), name=\"ensure_min_group_size\"\n",
    ")\n",
    "model.update()"
   ]
  },
  {
   "cell_type": "code",
   "execution_count": 76,
   "id": "066b5083",
   "metadata": {},
   "outputs": [],
   "source": [
    "model.addConstrs(\n",
    "    (\n",
    "        x.sum(project_id, group_id, \"*\")\n",
    "        <= projects_info[\"max_group_size\"][project_id] * y[project_id, group_id]\n",
    "        for project_id in project_ids\n",
    "        for group_id in projects_group_ids[project_id]\n",
    "    ), name=\"cap_group_size_at_max\"\n",
    ")\n",
    "model.update()"
   ]
  },
  {
   "cell_type": "code",
   "execution_count": 77,
   "id": "ee5569ca",
   "metadata": {},
   "outputs": [],
   "source": [
    "model.addConstrs(\n",
    "    (\n",
    "        gs_surplus[project_id, group_id]\n",
    "        >= x.sum(project_id, group_id, \"*\")\n",
    "        - projects_info[\"ideal_group_size\"][project_id]\n",
    "        for project_id in project_ids\n",
    "        for group_id in projects_group_ids[project_id]\n",
    "    ), name=\"ensure_correct_group_size_surplus\"\n",
    ")\n",
    "model.update()"
   ]
  },
  {
   "cell_type": "code",
   "execution_count": 78,
   "id": "b2fcc2d3",
   "metadata": {},
   "outputs": [],
   "source": [
    "model.addConstrs(\n",
    "    (\n",
    "        gs_deficit[project_id, group_id]\n",
    "        >= projects_info[\"ideal_group_size\"][project_id]\n",
    "        - x.sum(project_id, group_id, \"*\")\n",
    "        - projects_info[\"max_group_size\"][project_id] * (1 - y[project_id, group_id])\n",
    "        for project_id in project_ids\n",
    "        for group_id in projects_group_ids[project_id]\n",
    "    ), name=\"ensure_correct_group_size_deficit\"\n",
    ")\n",
    "model.update()"
   ]
  },
  {
   "cell_type": "code",
   "execution_count": 79,
   "id": "4a1a3dce",
   "metadata": {},
   "outputs": [],
   "source": [
    "max_num_groups = max(projects_info[\"max#groups\"])\n",
    "\n",
    "\n",
    "unique_group_identifiers = {\n",
    "    (project_id, group_id): project_id + group_id / max_num_groups\n",
    "    for project_id in project_ids\n",
    "    for group_id in projects_group_ids[project_id]\n",
    "}"
   ]
  },
  {
   "cell_type": "code",
   "execution_count": 80,
   "id": "6d9d1656",
   "metadata": {},
   "outputs": [],
   "source": [
    "num_projects = len(projects_info)\n",
    "\n",
    "model.addConstrs(\n",
    "    (\n",
    "        z[first_student_id, second_student_id] * num_projects\n",
    "        >= sum(\n",
    "            unique_group_identifiers[project_id, group_id]\n",
    "            * (\n",
    "                x[project_id, group_id, first_student_id]\n",
    "                - x[project_id, group_id, second_student_id]\n",
    "            )\n",
    "            for project_id in project_ids\n",
    "            for group_id in projects_group_ids[project_id]\n",
    "        )\n",
    "        for (first_student_id, second_student_id) in mutual_pairs\n",
    "    ), name=\"ensure_correct_inidicator_different_group_1\"\n",
    ")\n",
    "model.update()"
   ]
  },
  {
   "cell_type": "code",
   "execution_count": 81,
   "id": "a13bc542",
   "metadata": {},
   "outputs": [],
   "source": [
    "model.addConstrs(\n",
    "    (\n",
    "        z[first_student_id, second_student_id] * num_projects\n",
    "        >= sum(\n",
    "            unique_group_identifiers[project_id, group_id]\n",
    "            * (\n",
    "                x[project_id, group_id, second_student_id]\n",
    "                - x[project_id, group_id, first_student_id]\n",
    "            )\n",
    "            for project_id in project_ids\n",
    "            for group_id in projects_group_ids[project_id]\n",
    "        )\n",
    "        for (first_student_id, second_student_id) in mutual_pairs\n",
    "    ), name=\"ensure_correct_inidicator_different_group_2\"\n",
    ")\n",
    "model.update()"
   ]
  },
  {
   "cell_type": "code",
   "execution_count": 82,
   "id": "b94973be",
   "metadata": {},
   "outputs": [
    {
     "name": "stdout",
     "output_type": "stream",
     "text": [
      "Gurobi Optimizer version 12.0.2 build v12.0.2rc0 (win64 - Windows 11.0 (26100.2))\n",
      "\n",
      "CPU model: 12th Gen Intel(R) Core(TM) i5-12500H, instruction set [SSE2|AVX|AVX2]\n",
      "Thread count: 12 physical cores, 16 logical processors, using up to 16 threads\n",
      "\n",
      "Optimize a model with 205 rows, 913 columns and 6652 nonzeros\n",
      "Model fingerprint: 0x3671536b\n",
      "Variable types: 82 continuous, 831 integer (831 binary)\n",
      "Coefficient statistics:\n",
      "  Matrix range     [2e-01, 5e+00]\n",
      "  Objective range  [1e+00, 3e+00]\n",
      "  Bounds range     [1e+00, 1e+00]\n",
      "  RHS range        [1e+00, 4e+00]\n",
      "Found heuristic solution: objective -40.0000000\n",
      "Presolve removed 26 rows and 0 columns\n",
      "Presolve time: 0.03s\n",
      "Presolved: 179 rows, 913 columns, 5872 nonzeros\n",
      "Variable types: 0 continuous, 913 integer (861 binary)\n",
      "\n",
      "Root relaxation: objective 1.174951e+02, 284 iterations, 0.01 seconds (0.00 work units)\n",
      "\n",
      "    Nodes    |    Current Node    |     Objective Bounds      |     Work\n",
      " Expl Unexpl |  Obj  Depth IntInf | Incumbent    BestBd   Gap | It/Node Time\n",
      "\n",
      "     0     0  117.49510    0   48  -40.00000  117.49510   394%     -    0s\n",
      "H    0     0                      72.0000000  117.49510  63.2%     -    0s\n",
      "H    0     0                      73.0000000  117.49510  61.0%     -    0s\n",
      "H    0     0                      77.0000000  117.49510  52.6%     -    0s\n",
      "H    0     0                      81.0000000  117.49510  45.1%     -    0s\n",
      "H    0     0                      83.0000000  117.49510  41.6%     -    0s\n",
      "H    0     0                      87.0000000  117.49510  35.1%     -    0s\n",
      "     0     0  116.21154    0   82   87.00000  116.21154  33.6%     -    0s\n",
      "H    0     0                      89.0000000  116.20968  30.6%     -    0s\n",
      "     0     0  116.20887    0   83   89.00000  116.20887  30.6%     -    0s\n",
      "H    0     0                      91.0000000  115.15320  26.5%     -    0s\n",
      "     0     0  115.15320    0  101   91.00000  115.15320  26.5%     -    0s\n",
      "     0     0  114.62663    0   84   91.00000  114.62663  26.0%     -    0s\n",
      "     0     0  114.59324    0  101   91.00000  114.59324  25.9%     -    0s\n",
      "H    0     0                      93.0000000  114.59324  23.2%     -    0s\n",
      "     0     0  114.59324    0   98   93.00000  114.59324  23.2%     -    0s\n",
      "     0     0  113.81621    0  117   93.00000  113.81621  22.4%     -    0s\n",
      "H    0     0                      94.0000000  113.78404  21.0%     -    0s\n",
      "     0     0  113.78404    0  115   94.00000  113.78404  21.0%     -    0s\n",
      "     0     0  113.78022    0  117   94.00000  113.78022  21.0%     -    0s\n",
      "H    0     0                      96.0000000  113.78017  18.5%     -    0s\n",
      "     0     0  113.78017    0  128   96.00000  113.78017  18.5%     -    0s\n",
      "H    0     0                      97.0000000  113.00000  16.5%     -    0s\n",
      "     0     0  113.00000    0  128   97.00000  113.00000  16.5%     -    0s\n",
      "     0     0  113.00000    0  124   97.00000  113.00000  16.5%     -    0s\n",
      "     0     0  113.00000    0  134   97.00000  113.00000  16.5%     -    0s\n",
      "     0     0  113.00000    0  103   97.00000  113.00000  16.5%     -    0s\n",
      "     0     2  112.99324    0   99   97.00000  112.99324  16.5%     -    0s\n",
      "H   30    40                      98.0000000  112.88822  15.2%   253    1s\n",
      "H  111   127                     102.0000000  112.88822  10.7%   139    1s\n",
      "  2559  1710  104.16117   16  168  102.00000  111.86834  9.67%  93.4    5s\n",
      "  5106  2501  103.61200   53   57  102.00000  110.06195  7.90%  96.3   10s\n",
      "  9300  3622  105.15751   35   74  102.00000  108.86780  6.73%   101   15s\n",
      "  9967  3912  104.64706   31   44  102.00000  108.60211  6.47%   101   20s\n",
      " 10591  4273 infeasible   33       102.00000  108.60211  6.47%   101   28s\n",
      " 10954  4370  105.38275   38   58  102.00000  108.53953  6.41%   102   32s\n",
      " 11252  4495     cutoff   27       102.00000  108.45492  6.33%   102   37s\n",
      " 13768  5429  104.37276   39   92  102.00000  108.18173  6.06%   105   40s\n",
      " 18232  7322  104.73188   33  103  102.00000  107.70016  5.59%   109   45s\n",
      " 24316  9577  103.83929   35  100  102.00000  107.29056  5.19%   112   50s\n",
      " 30168 11390  104.74394   28   82  102.00000  107.00155  4.90%   113   56s\n",
      " 33496 12283  105.70451   31  118  102.00000  106.86739  4.77%   114   60s\n",
      " 38379 13743     cutoff   31       102.00000  106.64305  4.55%   116   66s\n",
      " 42844 14870  104.13492   32   83  102.00000  106.45097  4.36%   117   80s\n",
      " 47732 15784  104.42285   26   79  102.00000  106.29077  4.21%   118   86s\n",
      " 51024 16360  103.39683   26   67  102.00000  106.21100  4.13%   119   90s\n",
      "*54398 12610              35     103.0000000  106.12942  3.04%   119   94s\n",
      " 55253 12471     cutoff   48       103.00000  106.10580  3.02%   119   96s\n",
      " 58014 12364  105.10730   34   80  103.00000  105.95041  2.86%   120  101s\n",
      " 60974 11913     cutoff   26       103.00000  105.80126  2.72%   121  105s\n",
      " 65631 11034  104.47938   27   93  103.00000  105.51437  2.44%   123  111s\n",
      " 69221 10203     cutoff   36       103.00000  105.35558  2.29%   123  116s\n",
      " 72508  9197  104.17508   30  103  103.00000  105.17024  2.11%   124  120s\n",
      " 76589  8038     cutoff   34       103.00000  104.99962  1.94%   123  125s\n",
      " 80283  6367  104.28236   34  101  103.00000  104.92924  1.87%   122  130s\n",
      " 83447  4063     cutoff   38       103.00000  104.84804  1.79%   121  135s\n",
      " 89640     0     cutoff   38       103.00000  104.03510  1.00%   116  140s\n",
      "\n",
      "Cutting planes:\n",
      "  Gomory: 17\n",
      "  Cover: 367\n",
      "  Clique: 23\n",
      "  MIR: 71\n",
      "  StrongCG: 56\n",
      "  Flow cover: 109\n",
      "  GUB cover: 237\n",
      "  Inf proof: 61\n",
      "  Zero half: 34\n",
      "  Mod-K: 2\n",
      "  RLT: 5\n",
      "  Relax-and-lift: 4\n",
      "\n",
      "Explored 89855 nodes (10371216 simplex iterations) in 140.09 seconds (65.20 work units)\n",
      "Thread count was 16 (of 16 available processors)\n",
      "\n",
      "Solution count 10: 103 102 98 ... 87\n",
      "\n",
      "Optimal solution found (tolerance 1.00e-04)\n",
      "Best objective 1.030000000000e+02, best bound 1.030000000000e+02, gap 0.0000%\n"
     ]
    }
   ],
   "source": [
    "#model.Params.TimeLimit = 60\n",
    "model.optimize()"
   ]
  },
  {
   "cell_type": "code",
   "execution_count": null,
   "id": "24b5f477",
   "metadata": {},
   "outputs": [
    {
     "name": "stdout",
     "output_type": "stream",
     "text": [
      "\n",
      "\n",
      "Marketing\n",
      "\n",
      "Group 1\n",
      "\n",
      "Group 2\n",
      "\n",
      "Group 3\n",
      "\n",
      "Group 4\n",
      "\n",
      "Group 5\n",
      "\n",
      "\n",
      "Innovation Management\n",
      "\n",
      "Group 1\n",
      "Albert Moore 3\n",
      "Amanda Ross 15\n",
      "Wayne Gray 27\n",
      "\n",
      "Group 2\n",
      "Keith Long 16\n",
      "Kevin Lee 19\n",
      "\n",
      "Group 3\n",
      "Jack Cox 12\n",
      "Eric Morales 23\n",
      "\n",
      "Group 4\n",
      "Sandra Hughes 6\n",
      "Caleb Rogers 28\n",
      "\n",
      "Group 5\n",
      "\n",
      "Group 6\n",
      "\n",
      "\n",
      "Payroll Administration\n",
      "\n",
      "Group 1\n",
      "Theresa Anderson 10\n",
      "Emily Taylor 24\n",
      "Sophia Lopez 25\n",
      "\n",
      "Group 2\n",
      "Betty James 2\n",
      "Kathryn Nelson 4\n",
      "Barbara Brown 21\n",
      "\n",
      "Group 3\n",
      "Raymond Thomas 1\n",
      "Kimberly Brown 9\n",
      "Doris Ramos 20\n",
      "\n",
      "Group 4\n",
      "\n",
      "Group 5\n",
      "\n",
      "Group 6\n",
      "\n",
      "\n",
      "Consumer Behavior\n",
      "\n",
      "Group 1\n",
      "\n",
      "Group 2\n",
      "\n",
      "Group 3\n",
      "\n",
      "Group 4\n",
      "\n",
      "Group 5\n",
      "\n",
      "\n",
      "Business Information Systems\n",
      "\n",
      "Group 1\n",
      "Paul Martinez 5\n",
      "Keith Mendoza 7\n",
      "John Johnson 13\n",
      "Logan Lopez 29\n",
      "\n",
      "Group 2\n",
      "Raymond Lewis 8\n",
      "Elijah Taylor 11\n",
      "Linda Carter 22\n",
      "Maria Wilson 26\n",
      "\n",
      "Group 3\n",
      "Jose Wright 0\n",
      "Dorothy Anderson 14\n",
      "Lori Hill 17\n",
      "Karen Rogers 18\n",
      "\n",
      "Group 4\n",
      "Number of assigned: students: 30\n"
     ]
    }
   ],
   "source": [
    "num_assigned = 0\n",
    "for project_id in project_ids:\n",
    "    print(\"\\n\")\n",
    "    print(projects_info[\"name\"][project_id])\n",
    "    for group_id in projects_group_ids[project_id]:\n",
    "        print(\"\\nGroup\", group_id + 1)\n",
    "        for student_id in student_ids:\n",
    "            if x[project_id, group_id, student_id].X > 0.5:\n",
    "                print(students_info[\"name\"][student_id], student_id)\n",
    "                num_assigned += 1\n",
    "\n",
    "print(\"Number of assigned students:\", num_assigned)"
   ]
  },
  {
   "cell_type": "code",
   "execution_count": 84,
   "id": "584e7f59",
   "metadata": {},
   "outputs": [
    {
     "name": "stdout",
     "output_type": "stream",
     "text": [
      "Freeing default Gurobi environment\n"
     ]
    }
   ],
   "source": [
    "model.dispose()\n",
    "gp.disposeDefaultEnv()"
   ]
  }
 ],
 "metadata": {
  "kernelspec": {
   "display_name": "student_assignment",
   "language": "python",
   "name": "python3"
  },
  "language_info": {
   "codemirror_mode": {
    "name": "ipython",
    "version": 3
   },
   "file_extension": ".py",
   "mimetype": "text/x-python",
   "name": "python",
   "nbconvert_exporter": "python",
   "pygments_lexer": "ipython3",
   "version": "3.13.2"
  }
 },
 "nbformat": 4,
 "nbformat_minor": 5
}
