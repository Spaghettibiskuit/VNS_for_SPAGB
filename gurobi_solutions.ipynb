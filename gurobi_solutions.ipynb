{
 "cells": [
  {
   "cell_type": "code",
   "execution_count": 29,
   "id": "a43031cc",
   "metadata": {},
   "outputs": [],
   "source": [
    "import gurobipy as gp\n",
    "from gurobipy import GRB\n",
    "import json\n",
    "from pathlib import Path\n",
    "import pandas as pd"
   ]
  },
  {
   "cell_type": "code",
   "execution_count": 30,
   "id": "98fbb5cb",
   "metadata": {},
   "outputs": [],
   "source": [
    "dimension = \"5_30_instances\"\n",
    "folder_projects = Path(\"instances_projects\")\n",
    "filename_projects = \"generic_5_30_projects_0.csv\"\n",
    "filepath_projects = folder_projects / dimension / filename_projects\n",
    "folder_students = Path(\"instances_students\")\n",
    "filename_students = \"generic_5_30_students_0.csv\"\n",
    "filepath_students = folder_students / dimension / filename_students\n",
    "projects_info = pd.read_csv(filepath_projects)\n",
    "students_info = pd.read_csv(filepath_students)\n",
    "students_info[\"fav_partners\"] = students_info[\"fav_partners\"].apply(lambda x: set(json.loads(x)))\n",
    "students_info[\"project_prefs\"] = students_info[\"project_prefs\"].apply(lambda x: tuple(json.loads(x)))"
   ]
  },
  {
   "cell_type": "code",
   "execution_count": 31,
   "id": "c67196b2",
   "metadata": {},
   "outputs": [
    {
     "name": "stdout",
     "output_type": "stream",
     "text": [
      "                        name  desired#groups  max#groups  ideal_group_size  \\\n",
      "0                 Accounting               4           5                 3   \n",
      "1      Production Management               3           4                 4   \n",
      "2         Financial Planning               3           6                 4   \n",
      "3        Business Statistics               3           5                 2   \n",
      "4  Human Resource Management               4           6                 4   \n",
      "\n",
      "   min_group_size  max_group_size  pen_groups  pen_size  \n",
      "0               2               5           1         3  \n",
      "1               1               6           1         2  \n",
      "2               2               6           3         2  \n",
      "3               1               4           2         1  \n",
      "4               1               5           1         3  \n"
     ]
    }
   ],
   "source": [
    "print(projects_info)"
   ]
  },
  {
   "cell_type": "code",
   "execution_count": 32,
   "id": "edd14b38",
   "metadata": {},
   "outputs": [
    {
     "name": "stdout",
     "output_type": "stream",
     "text": [
      "                  name  fav_partners    project_prefs\n",
      "0     Kathleen Sanders  {18, 13, 23}  (3, 1, 3, 3, 0)\n",
      "1           Susan Diaz   {19, 3, 23}  (0, 0, 2, 1, 2)\n",
      "2           Kelly Ross   {1, 11, 23}  (0, 0, 1, 1, 2)\n",
      "3         Pamela Jones   {1, 26, 10}  (0, 0, 2, 1, 2)\n",
      "4      Brandon Mendoza    {9, 5, 25}  (2, 3, 0, 2, 2)\n",
      "5       John Rodriguez    {4, 6, 14}  (2, 3, 0, 2, 2)\n",
      "6        Logan Sanders   {29, 28, 5}  (2, 3, 0, 1, 2)\n",
      "7         Willie White    {0, 4, 23}  (2, 1, 2, 2, 1)\n",
      "8           Juan Kelly  {27, 11, 14}  (3, 1, 0, 0, 1)\n",
      "9          Larry Smith   {24, 19, 6}  (2, 2, 1, 1, 2)\n",
      "10  Christopher Morris    {3, 6, 14}  (1, 1, 1, 1, 1)\n",
      "11       Andrew Cooper   {2, 20, 22}  (1, 1, 1, 1, 1)\n",
      "12     Jeffrey Alvarez    {1, 4, 13}  (1, 2, 1, 2, 2)\n",
      "13        Carl Alvarez  {25, 26, 12}  (1, 2, 1, 2, 2)\n",
      "14       Amanda Torres  {10, 19, 21}  (2, 2, 1, 1, 1)\n",
      "15        Hannah Gomez   {4, 14, 23}  (2, 2, 0, 2, 2)\n",
      "16        Gregory Reed   {10, 27, 6}  (1, 1, 0, 1, 2)\n",
      "17       Ashley Bailey   {1, 10, 21}  (0, 1, 2, 1, 1)\n",
      "18        Emily Parker    {5, 22, 7}  (2, 2, 2, 2, 1)\n",
      "19       Frances Adams    {1, 14, 6}  (2, 2, 2, 1, 1)\n",
      "20        Tyler Carter    {1, 26, 6}  (1, 1, 1, 1, 2)\n",
      "21            Roy King  {17, 13, 14}  (1, 2, 2, 1, 2)\n",
      "22    Gerald Gutierrez  {17, 18, 11}  (2, 1, 2, 2, 1)\n",
      "23   Stephen Hernandez    {1, 7, 15}  (1, 1, 2, 2, 2)\n",
      "24         Frank Ramos   {16, 9, 13}  (1, 1, 1, 1, 2)\n",
      "25         Aaron Myers   {21, 3, 13}  (1, 2, 1, 2, 2)\n",
      "26        Lucas Thomas   {3, 20, 13}  (1, 1, 1, 2, 2)\n",
      "27      Laura Mitchell    {16, 8, 2}  (1, 1, 1, 0, 2)\n",
      "28         Bobby Smith   {16, 4, 15}  (1, 2, 0, 2, 2)\n",
      "29        Jose Roberts   {16, 18, 6}  (1, 2, 1, 1, 2)\n"
     ]
    }
   ],
   "source": [
    "print(students_info)"
   ]
  },
  {
   "cell_type": "code",
   "execution_count": 33,
   "id": "93489dd3",
   "metadata": {},
   "outputs": [],
   "source": [
    "reward_bilateral = 2\n",
    "penalty_unassignment = 3"
   ]
  },
  {
   "cell_type": "code",
   "execution_count": 34,
   "id": "3f2739e9",
   "metadata": {},
   "outputs": [
    {
     "name": "stdout",
     "output_type": "stream",
     "text": [
      "Set parameter Username\n",
      "Set parameter LicenseID to value 2654427\n",
      "Academic license - for non-commercial use only - expires 2026-04-19\n"
     ]
    }
   ],
   "source": [
    "\n",
    "model = gp.Model()"
   ]
  },
  {
   "cell_type": "code",
   "execution_count": 35,
   "id": "3f6339d9",
   "metadata": {},
   "outputs": [],
   "source": [
    "project_ids = range(len(projects_info))\n",
    "student_ids = range(len(students_info))\n",
    "\n",
    "projects_group_ids = {\n",
    "    project_id: range(projects_info[\"max#groups\"][project_id])\n",
    "    for project_id in project_ids\n",
    "}\n"
   ]
  },
  {
   "cell_type": "code",
   "execution_count": 36,
   "id": "d8f16e76",
   "metadata": {},
   "outputs": [],
   "source": [
    "x = model.addVars(\n",
    "    (\n",
    "        (project_id, group_id, student_id)\n",
    "        for project_id in project_ids\n",
    "        for group_id in projects_group_ids[project_id]\n",
    "        for student_id in student_ids\n",
    "    ),\n",
    "    vtype=GRB.BINARY,\n",
    "    name=\"assign\",\n",
    ")\n",
    "model.update()"
   ]
  },
  {
   "cell_type": "code",
   "execution_count": 37,
   "id": "ff7c29de",
   "metadata": {},
   "outputs": [],
   "source": [
    "y = model.addVars(\n",
    "    (\n",
    "        (project_id, group_id)\n",
    "        for project_id in project_ids\n",
    "        for group_id in projects_group_ids[project_id]\n",
    "    ),\n",
    "    vtype=GRB.BINARY,\n",
    "    name=\"establish_group\",\n",
    ")"
   ]
  },
  {
   "cell_type": "code",
   "execution_count": 38,
   "id": "e851e07b",
   "metadata": {},
   "outputs": [],
   "source": [
    "favorite_partners_students = students_info[\"fav_partners\"].tolist()\n",
    "mutual_pairs = {\n",
    "    (student_id, partner_id)\n",
    "    for student_id, favorite_partners in enumerate(favorite_partners_students)\n",
    "    for partner_id in favorite_partners\n",
    "    if student_id < partner_id and\n",
    "    student_id in favorite_partners_students[partner_id]\n",
    "}"
   ]
  },
  {
   "cell_type": "code",
   "execution_count": 39,
   "id": "60166f58",
   "metadata": {},
   "outputs": [],
   "source": [
    "z = model.addVars(mutual_pairs, vtype=GRB.BINARY, name=\"not_realize_bilateral_cooperation_wish\")"
   ]
  },
  {
   "cell_type": "code",
   "execution_count": 40,
   "id": "c0cdd1af",
   "metadata": {},
   "outputs": [],
   "source": [
    "v = model.addVars(student_ids, name = \"student_unassigned\")"
   ]
  },
  {
   "cell_type": "code",
   "execution_count": 41,
   "id": "9d10802b",
   "metadata": {},
   "outputs": [],
   "source": [
    "gs_surplus = model.addVars(\n",
    "    (\n",
    "        (project_id, group_id)\n",
    "        for project_id in project_ids\n",
    "        for group_id in projects_group_ids[project_id]\n",
    "    ),\n",
    "    name=\"group_size_surplus\",\n",
    ")"
   ]
  },
  {
   "cell_type": "code",
   "execution_count": 42,
   "id": "12d85c91",
   "metadata": {},
   "outputs": [],
   "source": [
    "gs_deficit = model.addVars(\n",
    "    (\n",
    "        (project_id, group_id)\n",
    "        for project_id in project_ids\n",
    "        for group_id in projects_group_ids[project_id]\n",
    "    ),\n",
    "    name=\"group_size_deficit\",\n",
    ")"
   ]
  },
  {
   "cell_type": "code",
   "execution_count": 43,
   "id": "4b743c90",
   "metadata": {},
   "outputs": [],
   "source": [
    "project_preferences = {\n",
    "    (student_id, project_id): students_info[\"project_prefs\"][student_id][project_id]\n",
    "    for student_id in student_ids\n",
    "    for project_id in project_ids\n",
    "}"
   ]
  },
  {
   "cell_type": "code",
   "execution_count": 44,
   "id": "53f0e6d1",
   "metadata": {},
   "outputs": [],
   "source": [
    "rewards_student_project_preference = gp.quicksum(\n",
    "    project_preferences[student_id, project_id] * x[project_id, group_id, student_id]\n",
    "    for project_id in project_ids\n",
    "    for group_id in projects_group_ids[project_id]\n",
    "    for student_id in student_ids\n",
    ")\n",
    "\n",
    "rewards_bilateral_cooperation_wish_realized = reward_bilateral * gp.quicksum(\n",
    "    1 - z[*mutual_pair] for mutual_pair in mutual_pairs\n",
    ")\n",
    "\n",
    "penalties_student_unassigned = penalty_unassignment * gp.quicksum(v.values())\n",
    "\n",
    "penalties_more_groups_than_offered = gp.quicksum(\n",
    "    projects_info[\"pen_groups\"][project_id] * y[project_id, group_id]\n",
    "    for project_id in project_ids\n",
    "    for group_id in projects_group_ids[project_id]\n",
    "    if group_id >= projects_info[\"desired#groups\"][project_id]\n",
    ")\n",
    "\n",
    "penalties_not_ideal_group_size = gp.quicksum(\n",
    "    projects_info[\"pen_size\"][project_id]\n",
    "    * (gs_surplus[project_id, group_id] + gs_deficit[project_id, group_id])\n",
    "    for project_id in project_ids\n",
    "    for group_id in projects_group_ids[project_id]\n",
    ")\n",
    "\n",
    "model.setObjective(\n",
    "    rewards_student_project_preference\n",
    "    + rewards_bilateral_cooperation_wish_realized\n",
    "    - penalties_student_unassigned\n",
    "    - penalties_more_groups_than_offered\n",
    "    - penalties_not_ideal_group_size,\n",
    "    sense=GRB.MAXIMIZE,\n",
    ")"
   ]
  },
  {
   "cell_type": "code",
   "execution_count": 45,
   "id": "d4e95c2f",
   "metadata": {},
   "outputs": [],
   "source": [
    "model.addConstrs(\n",
    "    (x.sum(\"*\", \"*\", student_id) + v[student_id] == 1 for student_id in student_ids),\n",
    "    name=\"penalty_if_unassigned\",\n",
    ")\n",
    "model.update()"
   ]
  },
  {
   "cell_type": "code",
   "execution_count": 46,
   "id": "61b7195b",
   "metadata": {},
   "outputs": [],
   "source": [
    "model.addConstrs(\n",
    "    (\n",
    "        y[project_id, group_id] <= y[project_id, group_id - 1]\n",
    "        for project_id in project_ids\n",
    "        for group_id in projects_group_ids[project_id]\n",
    "        if group_id > 0\n",
    "    ), name=\"only_consecutive_group_ids\"\n",
    ")\n",
    "model.update()"
   ]
  },
  {
   "cell_type": "code",
   "execution_count": 47,
   "id": "c7a2de76",
   "metadata": {},
   "outputs": [],
   "source": [
    "model.addConstrs(\n",
    "    (\n",
    "        x.sum(project_id, group_id, \"*\")\n",
    "        >= projects_info[\"min_group_size\"][project_id] * y[project_id, group_id]\n",
    "        for project_id in project_ids\n",
    "        for group_id in projects_group_ids[project_id]\n",
    "    ), name=\"ensure_min_group_size\"\n",
    ")\n",
    "model.update()"
   ]
  },
  {
   "cell_type": "code",
   "execution_count": 48,
   "id": "066b5083",
   "metadata": {},
   "outputs": [],
   "source": [
    "model.addConstrs(\n",
    "    (\n",
    "        x.sum(project_id, group_id, \"*\")\n",
    "        <= projects_info[\"max_group_size\"][project_id] * y[project_id, group_id]\n",
    "        for project_id in project_ids\n",
    "        for group_id in projects_group_ids[project_id]\n",
    "    ), name=\"cap_group_size_at_max\"\n",
    ")\n",
    "model.update()"
   ]
  },
  {
   "cell_type": "code",
   "execution_count": 49,
   "id": "ee5569ca",
   "metadata": {},
   "outputs": [],
   "source": [
    "model.addConstrs(\n",
    "    (\n",
    "        gs_surplus[project_id, group_id]\n",
    "        >= x.sum(project_id, group_id, \"*\")\n",
    "        - projects_info[\"ideal_group_size\"][project_id]\n",
    "        for project_id in project_ids\n",
    "        for group_id in projects_group_ids[project_id]\n",
    "    ), name=\"ensure_correct_group_size_surplus\"\n",
    ")\n",
    "model.update()"
   ]
  },
  {
   "cell_type": "code",
   "execution_count": 50,
   "id": "b2fcc2d3",
   "metadata": {},
   "outputs": [],
   "source": [
    "model.addConstrs(\n",
    "    (\n",
    "        gs_deficit[project_id, group_id]\n",
    "        >= projects_info[\"ideal_group_size\"][project_id]\n",
    "        - x.sum(project_id, group_id, \"*\")\n",
    "        - projects_info[\"max_group_size\"][project_id] * (1 - y[project_id, group_id])\n",
    "        for project_id in project_ids\n",
    "        for group_id in projects_group_ids[project_id]\n",
    "    ), name=\"ensure_correct_group_size_deficit\"\n",
    ")\n",
    "model.update()"
   ]
  },
  {
   "cell_type": "code",
   "execution_count": 51,
   "id": "4a1a3dce",
   "metadata": {},
   "outputs": [],
   "source": [
    "max_num_groups = max(projects_info[\"max#groups\"])\n",
    "\n",
    "\n",
    "unique_group_identifiers = {\n",
    "    (project_id, group_id): project_id + group_id / max_num_groups\n",
    "    for project_id in project_ids\n",
    "    for group_id in projects_group_ids[project_id]\n",
    "}"
   ]
  },
  {
   "cell_type": "code",
   "execution_count": 52,
   "id": "6d9d1656",
   "metadata": {},
   "outputs": [],
   "source": [
    "num_projects = len(projects_info)\n",
    "\n",
    "model.addConstrs(\n",
    "    (\n",
    "        z[first_student_id, second_student_id] * num_projects\n",
    "        >= sum(\n",
    "            unique_group_identifiers[project_id, group_id]\n",
    "            * (\n",
    "                x[project_id, group_id, first_student_id]\n",
    "                - x[project_id, group_id, second_student_id]\n",
    "            )\n",
    "            for project_id in project_ids\n",
    "            for group_id in projects_group_ids[project_id]\n",
    "        )\n",
    "        for (first_student_id, second_student_id) in mutual_pairs\n",
    "    ), name=\"ensure_correct_inidicator_different_group_1\"\n",
    ")\n",
    "model.update()"
   ]
  },
  {
   "cell_type": "code",
   "execution_count": 53,
   "id": "a13bc542",
   "metadata": {},
   "outputs": [],
   "source": [
    "model.addConstrs(\n",
    "    (\n",
    "        z[first_student_id, second_student_id] * num_projects\n",
    "        >= sum(\n",
    "            unique_group_identifiers[project_id, group_id]\n",
    "            * (\n",
    "                x[project_id, group_id, second_student_id]\n",
    "                - x[project_id, group_id, first_student_id]\n",
    "            )\n",
    "            for project_id in project_ids\n",
    "            for group_id in projects_group_ids[project_id]\n",
    "        )\n",
    "        for (first_student_id, second_student_id) in mutual_pairs\n",
    "    ), name=\"ensure_correct_inidicator_different_group_2\"\n",
    ")\n",
    "model.update()"
   ]
  },
  {
   "cell_type": "code",
   "execution_count": 54,
   "id": "b94973be",
   "metadata": {},
   "outputs": [
    {
     "name": "stdout",
     "output_type": "stream",
     "text": [
      "Set parameter TimeLimit to value 60\n",
      "Gurobi Optimizer version 12.0.2 build v12.0.2rc0 (win64 - Windows 11.0 (26100.2))\n",
      "\n",
      "CPU model: 12th Gen Intel(R) Core(TM) i5-12500H, instruction set [SSE2|AVX|AVX2]\n",
      "Thread count: 12 physical cores, 16 logical processors, using up to 16 threads\n",
      "\n",
      "Non-default parameters:\n",
      "TimeLimit  60\n",
      "\n",
      "Optimize a model with 203 rows, 912 columns and 6550 nonzeros\n",
      "Model fingerprint: 0x2e395b9f\n",
      "Variable types: 82 continuous, 830 integer (830 binary)\n",
      "Coefficient statistics:\n",
      "  Matrix range     [2e-01, 6e+00]\n",
      "  Objective range  [1e+00, 3e+00]\n",
      "  Bounds range     [1e+00, 1e+00]\n",
      "  RHS range        [1e+00, 4e+00]\n",
      "Found heuristic solution: objective -42.0000000\n",
      "Presolve removed 26 rows and 0 columns\n",
      "Presolve time: 0.02s\n",
      "Presolved: 177 rows, 912 columns, 5770 nonzeros\n",
      "Variable types: 0 continuous, 912 integer (860 binary)\n",
      "\n",
      "Root relaxation: objective 1.084312e+02, 390 iterations, 0.00 seconds (0.00 work units)\n",
      "\n",
      "    Nodes    |    Current Node    |     Objective Bounds      |     Work\n",
      " Expl Unexpl |  Obj  Depth IntInf | Incumbent    BestBd   Gap | It/Node Time\n",
      "\n",
      "     0     0  108.43118    0   67  -42.00000  108.43118   358%     -    0s\n",
      "H    0     0                      42.0000000  108.43118   158%     -    0s\n",
      "H    0     0                      47.0000000  108.43118   131%     -    0s\n",
      "H    0     0                      49.0000000  108.43118   121%     -    0s\n",
      "H    0     0                      50.0000000  108.43118   117%     -    0s\n",
      "H    0     0                      51.0000000  108.43118   113%     -    0s\n",
      "H    0     0                      52.0000000  108.43118   109%     -    0s\n",
      "H    0     0                      70.0000000  108.43118  54.9%     -    0s\n",
      "H    0     0                      71.0000000  108.43118  52.7%     -    0s\n",
      "H    0     0                      75.0000000  105.97609  41.3%     -    0s\n",
      "     0     0  105.97609    0   76   75.00000  105.97609  41.3%     -    0s\n",
      "H    0     0                      76.0000000  105.90021  39.3%     -    0s\n",
      "     0     0  105.90021    0   77   76.00000  105.90021  39.3%     -    0s\n",
      "H    0     0                      80.0000000  105.36805  31.7%     -    0s\n",
      "     0     0  105.36805    0  106   80.00000  105.36805  31.7%     -    0s\n",
      "H    0     0                      82.0000000  105.36777  28.5%     -    0s\n",
      "     0     0  105.31314    0  111   82.00000  105.31314  28.4%     -    0s\n",
      "     0     0  105.31307    0  121   82.00000  105.31307  28.4%     -    0s\n",
      "H    0     0                      88.0000000  105.00232  19.3%     -    0s\n",
      "     0     0  105.00232    0  110   88.00000  105.00232  19.3%     -    0s\n",
      "     0     0  104.99628    0  112   88.00000  104.99628  19.3%     -    0s\n",
      "     0     0  104.99374    0  117   88.00000  104.99374  19.3%     -    0s\n",
      "     0     0  104.92584    0  120   88.00000  104.92584  19.2%     -    0s\n",
      "H    0     0                      89.0000000  104.92556  17.9%     -    0s\n",
      "     0     0  104.90722    0  118   89.00000  104.90722  17.9%     -    0s\n",
      "H    0     0                      92.0000000  104.81775  13.9%     -    0s\n",
      "     0     0  104.81775    0  120   92.00000  104.81775  13.9%     -    0s\n",
      "H    0     0                      93.0000000  104.81717  12.7%     -    0s\n",
      "     0     0  104.81717    0  120   93.00000  104.81717  12.7%     -    0s\n",
      "     0     0  104.12724    0  115   93.00000  104.12724  12.0%     -    0s\n",
      "H    0     0                      95.0000000  104.10907  9.59%     -    0s\n",
      "     0     0  104.10907    0  120   95.00000  104.10907  9.59%     -    0s\n",
      "     0     0  104.10520    0  125   95.00000  104.10520  9.58%     -    0s\n",
      "     0     0  104.10488    0  130   95.00000  104.10488  9.58%     -    0s\n",
      "     0     0  104.03589    0  117   95.00000  104.03589  9.51%     -    0s\n",
      "     0     0  104.03398    0  130   95.00000  104.03398  9.51%     -    0s\n",
      "     0     0  104.03267    0  125   95.00000  104.03267  9.51%     -    0s\n",
      "     0     0  104.03256    0  120   95.00000  104.03256  9.51%     -    0s\n",
      "     0     2  104.03250    0  119   95.00000  104.03250  9.51%     -    0s\n",
      "H 3113  1653                      96.0000000  103.08975  7.39%  79.0    3s\n",
      "  4880  1682 infeasible   40        96.00000  102.40902  6.68%  77.9    5s\n",
      " 16276  2124     cutoff   35        96.00000   98.95740  3.08%  81.1   10s\n",
      "*19353  1003              37      97.0000000   98.18997  1.23%  81.4   11s\n",
      "\n",
      "Cutting planes:\n",
      "  Gomory: 12\n",
      "  Cover: 218\n",
      "  Clique: 14\n",
      "  MIR: 52\n",
      "  StrongCG: 19\n",
      "  Flow cover: 39\n",
      "  GUB cover: 178\n",
      "  Inf proof: 98\n",
      "  Zero half: 31\n",
      "  Mod-K: 3\n",
      "  RLT: 11\n",
      "  Relax-and-lift: 7\n",
      "\n",
      "Explored 21892 nodes (1647791 simplex iterations) in 12.12 seconds (13.51 work units)\n",
      "Thread count was 16 (of 16 available processors)\n",
      "\n",
      "Solution count 10: 97 96 95 ... 76\n",
      "\n",
      "Optimal solution found (tolerance 1.00e-04)\n",
      "Best objective 9.700000000000e+01, best bound 9.700000000000e+01, gap 0.0000%\n"
     ]
    }
   ],
   "source": [
    "model.Params.TimeLimit = 60\n",
    "model.optimize()"
   ]
  },
  {
   "cell_type": "code",
   "execution_count": 55,
   "id": "24b5f477",
   "metadata": {},
   "outputs": [
    {
     "name": "stdout",
     "output_type": "stream",
     "text": [
      "\n",
      "\n",
      "Accounting\n",
      "\n",
      "Group 1\n",
      "Juan Kelly 8\n",
      "Gregory Reed 16\n",
      "Laura Mitchell 27\n",
      "\n",
      "Group 2\n",
      "Kathleen Sanders 0\n",
      "Emily Parker 18\n",
      "Gerald Gutierrez 22\n",
      "\n",
      "Group 3\n",
      "\n",
      "Group 4\n",
      "\n",
      "Group 5\n",
      "\n",
      "\n",
      "Production Management\n",
      "\n",
      "Group 1\n",
      "Brandon Mendoza 4\n",
      "John Rodriguez 5\n",
      "Logan Sanders 6\n",
      "Jose Roberts 29\n",
      "\n",
      "Group 2\n",
      "\n",
      "Group 3\n",
      "\n",
      "Group 4\n",
      "\n",
      "\n",
      "Financial Planning\n",
      "\n",
      "Group 1\n",
      "Amanda Torres 14\n",
      "Ashley Bailey 17\n",
      "Frances Adams 19\n",
      "Roy King 21\n",
      "\n",
      "Group 2\n",
      "\n",
      "Group 3\n",
      "\n",
      "Group 4\n",
      "\n",
      "Group 5\n",
      "\n",
      "Group 6\n",
      "\n",
      "\n",
      "Business Statistics\n",
      "\n",
      "Group 1\n",
      "\n",
      "Group 2\n",
      "\n",
      "Group 3\n",
      "\n",
      "Group 4\n",
      "\n",
      "Group 5\n",
      "\n",
      "\n",
      "Human Resource Management\n",
      "\n",
      "Group 1\n",
      "Jeffrey Alvarez 12\n",
      "Carl Alvarez 13\n",
      "Aaron Myers 25\n",
      "Bobby Smith 28\n",
      "\n",
      "Group 2\n",
      "Kelly Ross 2\n",
      "Larry Smith 9\n",
      "Andrew Cooper 11\n",
      "Frank Ramos 24\n",
      "\n",
      "Group 3\n",
      "Pamela Jones 3\n",
      "Christopher Morris 10\n",
      "Tyler Carter 20\n",
      "Lucas Thomas 26\n",
      "\n",
      "Group 4\n",
      "Susan Diaz 1\n",
      "Willie White 7\n",
      "Hannah Gomez 15\n",
      "Stephen Hernandez 23\n",
      "\n",
      "Group 5\n",
      "\n",
      "Group 6\n"
     ]
    }
   ],
   "source": [
    "for project_id in project_ids:\n",
    "    print(\"\\n\")\n",
    "    print(projects_info[\"name\"][project_id])\n",
    "    for group_id in projects_group_ids[project_id]:\n",
    "        print(\"\\nGroup\", group_id + 1)\n",
    "        for student_id in student_ids:\n",
    "            if x[project_id, group_id, student_id].X > 0.5:\n",
    "                print(students_info[\"name\"][student_id], student_id)"
   ]
  },
  {
   "cell_type": "code",
   "execution_count": 56,
   "id": "584e7f59",
   "metadata": {},
   "outputs": [
    {
     "name": "stdout",
     "output_type": "stream",
     "text": [
      "Freeing default Gurobi environment\n"
     ]
    }
   ],
   "source": [
    "model.dispose()\n",
    "gp.disposeDefaultEnv()"
   ]
  }
 ],
 "metadata": {
  "kernelspec": {
   "display_name": "student_assignment",
   "language": "python",
   "name": "python3"
  },
  "language_info": {
   "codemirror_mode": {
    "name": "ipython",
    "version": 3
   },
   "file_extension": ".py",
   "mimetype": "text/x-python",
   "name": "python",
   "nbconvert_exporter": "python",
   "pygments_lexer": "ipython3",
   "version": "3.13.2"
  }
 },
 "nbformat": 4,
 "nbformat_minor": 5
}
